{
  "nbformat": 4,
  "nbformat_minor": 0,
  "metadata": {
    "colab": {
      "provenance": [],
      "authorship_tag": "ABX9TyNBLnbcvUUIPPaeGYt/B77e",
      "include_colab_link": true
    },
    "kernelspec": {
      "name": "python3",
      "display_name": "Python 3"
    },
    "language_info": {
      "name": "python"
    }
  },
  "cells": [
    {
      "cell_type": "markdown",
      "metadata": {
        "id": "view-in-github",
        "colab_type": "text"
      },
      "source": [
        "<a href=\"https://colab.research.google.com/github/czzzzzzzzzzz444/TKU-AI-411570814/blob/main/1129.ipynb\" target=\"_parent\"><img src=\"https://colab.research.google.com/assets/colab-badge.svg\" alt=\"Open In Colab\"/></a>"
      ]
    },
    {
      "cell_type": "code",
      "execution_count": 1,
      "metadata": {
        "colab": {
          "base_uri": "https://localhost:8080/"
        },
        "id": "mR8apjXJvnJ4",
        "outputId": "0807857a-fc0f-4463-8e1c-b9910ee85382"
      },
      "outputs": [
        {
          "output_type": "stream",
          "name": "stdout",
          "text": [
            "HI,1129\n"
          ]
        }
      ],
      "source": [
        "print(\"HI,1129\")"
      ]
    },
    {
      "cell_type": "code",
      "source": [
        " num1 = 1 + 1.1"
      ],
      "metadata": {
        "id": "v8pea_Aewamg"
      },
      "execution_count": 34,
      "outputs": []
    },
    {
      "cell_type": "code",
      "source": [
        " num1"
      ],
      "metadata": {
        "colab": {
          "base_uri": "https://localhost:8080/"
        },
        "id": "BW5f404czfDs",
        "outputId": "7d6f340b-c972-4bfa-e230-6350c19ac42e"
      },
      "execution_count": 35,
      "outputs": [
        {
          "output_type": "execute_result",
          "data": {
            "text/plain": [
              "2.1"
            ]
          },
          "metadata": {},
          "execution_count": 35
        }
      ]
    },
    {
      "cell_type": "code",
      "source": [
        " num2 = 2"
      ],
      "metadata": {
        "id": "GT_0sqIKzE_o"
      },
      "execution_count": 31,
      "outputs": []
    },
    {
      "cell_type": "code",
      "source": [
        " num3 = 3.1"
      ],
      "metadata": {
        "id": "lVso20kPzI_d"
      },
      "execution_count": 30,
      "outputs": []
    },
    {
      "cell_type": "code",
      "source": [
        " num4 = num2 + num3"
      ],
      "metadata": {
        "id": "KZzAwAcpzN7Q"
      },
      "execution_count": 32,
      "outputs": []
    },
    {
      "cell_type": "code",
      "source": [
        "print(type(num4))"
      ],
      "metadata": {
        "colab": {
          "base_uri": "https://localhost:8080/"
        },
        "id": "6n1ERvc-zUel",
        "outputId": "8bffa3d3-bf3f-4a54-e916-b18c11ee8f3a"
      },
      "execution_count": 33,
      "outputs": [
        {
          "output_type": "stream",
          "name": "stdout",
          "text": [
            "<class 'float'>\n"
          ]
        }
      ]
    },
    {
      "cell_type": "code",
      "source": [
        " num5 = 1"
      ],
      "metadata": {
        "id": "ry5hjv35zpEA"
      },
      "execution_count": 36,
      "outputs": []
    },
    {
      "cell_type": "code",
      "source": [
        " num6 = 2"
      ],
      "metadata": {
        "id": "kzz1h0U9zsrk"
      },
      "execution_count": 37,
      "outputs": []
    },
    {
      "cell_type": "code",
      "source": [
        " num7 = num5 + num6"
      ],
      "metadata": {
        "id": "6gB_ZdsEzvxw"
      },
      "execution_count": 38,
      "outputs": []
    },
    {
      "cell_type": "code",
      "source": [
        "print(type(num7))"
      ],
      "metadata": {
        "colab": {
          "base_uri": "https://localhost:8080/"
        },
        "id": "jcp_jaTSz2GQ",
        "outputId": "4369bf34-66d3-4341-e8f6-9dd6ed9552e3"
      },
      "execution_count": 39,
      "outputs": [
        {
          "output_type": "stream",
          "name": "stdout",
          "text": [
            "<class 'int'>\n"
          ]
        }
      ]
    },
    {
      "cell_type": "code",
      "source": [
        "float(num2)"
      ],
      "metadata": {
        "colab": {
          "base_uri": "https://localhost:8080/"
        },
        "id": "wphdaiWIz9z3",
        "outputId": "2079a2f6-29e7-47b2-9fe5-1fb46f05bf6d"
      },
      "execution_count": 40,
      "outputs": [
        {
          "output_type": "execute_result",
          "data": {
            "text/plain": [
              "2.0"
            ]
          },
          "metadata": {},
          "execution_count": 40
        }
      ]
    },
    {
      "cell_type": "code",
      "source": [
        "float(num3)"
      ],
      "metadata": {
        "colab": {
          "base_uri": "https://localhost:8080/"
        },
        "id": "_Qc-6AkR0A7m",
        "outputId": "708b8c1f-2901-444a-80f3-6dba09374e9b"
      },
      "execution_count": 41,
      "outputs": [
        {
          "output_type": "execute_result",
          "data": {
            "text/plain": [
              "3.1"
            ]
          },
          "metadata": {},
          "execution_count": 41
        }
      ]
    },
    {
      "cell_type": "code",
      "source": [
        "print(float(num2)+float(num3))"
      ],
      "metadata": {
        "colab": {
          "base_uri": "https://localhost:8080/"
        },
        "id": "56ctLl8N0DEY",
        "outputId": "39dccba6-dbff-45ee-88bd-ec7aeebe8bd5"
      },
      "execution_count": 42,
      "outputs": [
        {
          "output_type": "stream",
          "name": "stdout",
          "text": [
            "5.1\n"
          ]
        }
      ]
    },
    {
      "cell_type": "code",
      "source": [
        "a = 1\n",
        "b = 2\n",
        "c = 3"
      ],
      "metadata": {
        "id": "rhHkBFC_0nDx"
      },
      "execution_count": 43,
      "outputs": []
    },
    {
      "cell_type": "code",
      "source": [
        "print(a,b,c)"
      ],
      "metadata": {
        "colab": {
          "base_uri": "https://localhost:8080/"
        },
        "id": "LU81jHs90srE",
        "outputId": "7976ee5b-19fd-4851-86aa-2db25ea53ba7"
      },
      "execution_count": 44,
      "outputs": [
        {
          "output_type": "stream",
          "name": "stdout",
          "text": [
            "1 2 3\n"
          ]
        }
      ]
    },
    {
      "cell_type": "code",
      "source": [
        "print({a,b,c})"
      ],
      "metadata": {
        "colab": {
          "base_uri": "https://localhost:8080/"
        },
        "id": "nVjvodK20wSM",
        "outputId": "f0eb32de-a64f-4ed4-8a1f-dcb1cd09f6af"
      },
      "execution_count": 47,
      "outputs": [
        {
          "output_type": "stream",
          "name": "stdout",
          "text": [
            "{1, 2, 3}\n"
          ]
        }
      ]
    },
    {
      "cell_type": "code",
      "source": [
        "print(a,{b,c})"
      ],
      "metadata": {
        "colab": {
          "base_uri": "https://localhost:8080/"
        },
        "id": "n7NGvBhI1TSY",
        "outputId": "68176246-4f59-4c1d-d86c-96c1062917cb"
      },
      "execution_count": 48,
      "outputs": [
        {
          "output_type": "stream",
          "name": "stdout",
          "text": [
            "1 {2, 3}\n"
          ]
        }
      ]
    },
    {
      "cell_type": "code",
      "source": [
        "print('hey,hi,hello')"
      ],
      "metadata": {
        "colab": {
          "base_uri": "https://localhost:8080/"
        },
        "id": "3OvbmFSv1XmW",
        "outputId": "08c5165c-94d2-47b7-8097-97680256e065"
      },
      "execution_count": 49,
      "outputs": [
        {
          "output_type": "stream",
          "name": "stdout",
          "text": [
            "hey,hi,hello\n"
          ]
        }
      ]
    },
    {
      "cell_type": "code",
      "source": [
        "print('hey','hi','hello',sep='_')"
      ],
      "metadata": {
        "colab": {
          "base_uri": "https://localhost:8080/"
        },
        "id": "x7ivir0C2Tz6",
        "outputId": "14ebc8b7-5f29-42bd-93ad-d8353e831393"
      },
      "execution_count": 50,
      "outputs": [
        {
          "output_type": "stream",
          "name": "stdout",
          "text": [
            "hey_hi_hello\n"
          ]
        }
      ]
    },
    {
      "cell_type": "code",
      "source": [
        "print('hey','hi','hello',sep='\\t')"
      ],
      "metadata": {
        "colab": {
          "base_uri": "https://localhost:8080/"
        },
        "id": "NecAT5_g2uOK",
        "outputId": "a1dafba7-f208-49af-8f4e-f36d294f92e4"
      },
      "execution_count": 52,
      "outputs": [
        {
          "output_type": "stream",
          "name": "stdout",
          "text": [
            "hey\thi\thello\n"
          ]
        }
      ]
    },
    {
      "cell_type": "code",
      "source": [
        "print('hey','hi','hello',sep='\\n')"
      ],
      "metadata": {
        "colab": {
          "base_uri": "https://localhost:8080/"
        },
        "id": "vs2Hk6dV281E",
        "outputId": "165be4c4-bb49-464e-cb5a-1c85c7899ffc"
      },
      "execution_count": 53,
      "outputs": [
        {
          "output_type": "stream",
          "name": "stdout",
          "text": [
            "hey\n",
            "hi\n",
            "hello\n"
          ]
        }
      ]
    },
    {
      "cell_type": "code",
      "source": [
        "print('早安,')"
      ],
      "metadata": {
        "colab": {
          "base_uri": "https://localhost:8080/"
        },
        "id": "cLNP7Nus3MUK",
        "outputId": "918f7112-d726-4e16-f6b0-49be7424a59e"
      },
      "execution_count": 55,
      "outputs": [
        {
          "output_type": "stream",
          "name": "stdout",
          "text": [
            "早安,\n"
          ]
        }
      ]
    },
    {
      "cell_type": "code",
      "source": [
        "print('同學好!')"
      ],
      "metadata": {
        "colab": {
          "base_uri": "https://localhost:8080/"
        },
        "id": "PgvV4_e03Wrq",
        "outputId": "0ec477b6-b02b-4a7c-9189-3aa551100d8d"
      },
      "execution_count": 56,
      "outputs": [
        {
          "output_type": "stream",
          "name": "stdout",
          "text": [
            "同學好!\n"
          ]
        }
      ]
    },
    {
      "cell_type": "code",
      "source": [
        "print('早安,','同學好!','打起精神來!!',sep='\\n')"
      ],
      "metadata": {
        "colab": {
          "base_uri": "https://localhost:8080/"
        },
        "id": "Nf12_8k33gbq",
        "outputId": "1dd20d88-188e-4c45-abba-38c3cafd8b6d"
      },
      "execution_count": 64,
      "outputs": [
        {
          "output_type": "stream",
          "name": "stdout",
          "text": [
            "早安,\n",
            "同學好!\n",
            "打起精神來!!\n"
          ]
        }
      ]
    },
    {
      "cell_type": "code",
      "source": [
        "print(123)\n",
        "print(456)"
      ],
      "metadata": {
        "colab": {
          "base_uri": "https://localhost:8080/"
        },
        "id": "lIofm3hJ3zYy",
        "outputId": "29618c37-ed6d-4298-c0fd-44de796f9e34"
      },
      "execution_count": 59,
      "outputs": [
        {
          "output_type": "stream",
          "name": "stdout",
          "text": [
            "123\n",
            "456\n"
          ]
        }
      ]
    },
    {
      "cell_type": "code",
      "source": [
        "print(123,end=',')\n",
        "print(456)"
      ],
      "metadata": {
        "colab": {
          "base_uri": "https://localhost:8080/"
        },
        "id": "RqeE55Kv39B3",
        "outputId": "610ccd88-4403-46b5-a422-5d0fc616e5e9"
      },
      "execution_count": 60,
      "outputs": [
        {
          "output_type": "stream",
          "name": "stdout",
          "text": [
            "123,456\n"
          ]
        }
      ]
    },
    {
      "cell_type": "code",
      "source": [
        "print(123,end='')\n",
        "print(456)"
      ],
      "metadata": {
        "colab": {
          "base_uri": "https://localhost:8080/"
        },
        "id": "8yfI2YJp4G_z",
        "outputId": "c676bd08-0a97-461f-986f-8040f834b808"
      },
      "execution_count": 61,
      "outputs": [
        {
          "output_type": "stream",
          "name": "stdout",
          "text": [
            "123456\n"
          ]
        }
      ]
    },
    {
      "cell_type": "code",
      "source": [
        "print('早安,','同學好','打起精神來!!!',sep='_')"
      ],
      "metadata": {
        "colab": {
          "base_uri": "https://localhost:8080/"
        },
        "outputId": "0473f5f6-1ed3-4091-e11a-25db5871861d",
        "id": "BBIFC5Ok4T3l"
      },
      "execution_count": 63,
      "outputs": [
        {
          "output_type": "stream",
          "name": "stdout",
          "text": [
            "早安,_同學好_打起精神來!!!\n"
          ]
        }
      ]
    },
    {
      "cell_type": "code",
      "source": [
        "print('早上好,','平安順心','健康如意^^',sep=',')"
      ],
      "metadata": {
        "colab": {
          "base_uri": "https://localhost:8080/"
        },
        "outputId": "8ed1d793-57ea-4919-9396-ff064c884ac1",
        "id": "Tde-WrFb4ndd"
      },
      "execution_count": 65,
      "outputs": [
        {
          "output_type": "stream",
          "name": "stdout",
          "text": [
            "早上好,,平安順心,健康如意^^\n"
          ]
        }
      ]
    }
  ]
}